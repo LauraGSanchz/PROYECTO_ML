{
  "cells": [
    {
      "cell_type": "markdown",
      "metadata": {},
      "source": [
        "# Primera entrega ML"
      ]
    },
    {
      "cell_type": "markdown",
      "metadata": {},
      "source": [
        "### Título de proyecto"
      ]
    },
    {
      "cell_type": "code",
      "execution_count": null,
      "metadata": {},
      "outputs": [],
      "source": [
        "# Escribir el título de proyecto en Markdown\n",
        "titulo = \"Predictor de generación fotovoltaica y de precios del mercado minorista de la electricidad\""
      ]
    },
    {
      "cell_type": "markdown",
      "metadata": {},
      "source": [
        "### Tema"
      ]
    },
    {
      "cell_type": "code",
      "execution_count": null,
      "metadata": {},
      "outputs": [],
      "source": [
        "tema = \"Predictor de generación fotovoltaica y de precios del mercado minorista de la electricidad\" "
      ]
    },
    {
      "cell_type": "markdown",
      "metadata": {},
      "source": [
        "Establecer, a través de las fuentes de generación fotovoltaica, estrategias de predicción que tomen en cuenta variables meteorológicas como la velocidad y dirección del viento, la temperatura, la humedad y la nubosidad, entre otros. \n",
        "\n",
        "El análisis profundiza en cómo, mediante el análisis de predicciones de irradiancia y la interpretación de datos climáticos, es posible optimizar la generación de energía fotovoltaica en las instalaciones de la Universidad de Alcalá.\n",
        "\n",
        "Tras evaluar los distintos factores, se estableció que las variables a emplear para el modelo de predicción incluirían: la energía generada a través de la fotovoltaica, el indicador booleano que diferencia entre días festivos y laborables, la hora del día y el mes (por razones semejantes a las explicadas en el apartado de predicción de la irradiancia), la energía generada mediante tecnología eólica, el precio del gas y finalmente, el histórico de precios de la electricidad."
      ]
    },
    {
      "cell_type": "markdown",
      "metadata": {},
      "source": [
        "### Datasets y fuentes alternativas de datos\n",
        "Incluye aquí una breve descripción del dataset o datasets para tu proyecto. Incluye también las fuentes de cada uno de ellos."
      ]
    },
    {
      "cell_type": "code",
      "execution_count": null,
      "metadata": {},
      "outputs": [],
      "source": [
        "tipo_ml = \"Regresión\" \n",
        "target_descr = \"Precio de la electricidad\" \n",
        "metricas = [] # Metricas escogidas para evaluar los modelos"
      ]
    },
    {
      "cell_type": "code",
      "execution_count": null,
      "metadata": {},
      "outputs": [],
      "source": [
        "# dasets y enlaces de datasets en Markdown\n",
        "enlaces = [dataset creado a traves de datos propios ] # [\"www.paginacondatos.com\", \"www.paginawebscrapeada.com\", \"www.unaapi.com\"]"
      ]
    },
    {
      "cell_type": "code",
      "execution_count": 5,
      "metadata": {},
      "outputs": [],
      "source": [
        "df = pd.read_csv(\"C:/Users/laura/OneDrive/Desktop/PROYECTO ML/tabla_precios.csv\")"
      ]
    },
    {
      "cell_type": "code",
      "execution_count": 6,
      "metadata": {},
      "outputs": [
        {
          "name": "stdout",
          "output_type": "stream",
          "text": [
            "(67127, 10)\n",
            "----------------------------------------------------------------------------------------------------------------------------------------------------------------------------------------------------------------------------------------------------------------------------------------------------------------------------------------------------------------------------------------------------------------------------------------------------------------------------------------------------------------------------------------------------------------------------------------------------------------------------------------------------------------------------------------------------------------------------\n",
            "Index(['GHI', 'Festivo', 'Gas', 'PotenciaViento', 'Ano', 'Mes', 'Dia', 'Hora',\n",
            "       'GMT', 'Precios'],\n",
            "      dtype='object')\n",
            "----------------------------------------------------------------------------------------------------------------------------------------------------------------------------------------------------------------------------------------------------------------------------------------------------------------------------------------------------------------------------------------------------------------------------------------------------------------------------------------------------------------------------------------------------------------------------------------------------------------------------------------------------------------------------------------------------------------------------\n",
            "<class 'pandas.core.frame.DataFrame'>\n",
            "RangeIndex: 67127 entries, 0 to 67126\n",
            "Data columns (total 10 columns):\n",
            " #   Column          Non-Null Count  Dtype  \n",
            "---  ------          --------------  -----  \n",
            " 0   GHI             67127 non-null  object \n",
            " 1   Festivo         67127 non-null  int64  \n",
            " 2   Gas             67127 non-null  float64\n",
            " 3   PotenciaViento  67127 non-null  object \n",
            " 4   Ano             67127 non-null  int64  \n",
            " 5   Mes             67127 non-null  int64  \n",
            " 6   Dia             67127 non-null  int64  \n",
            " 7   Hora            67127 non-null  int64  \n",
            " 8   GMT             67127 non-null  int64  \n",
            " 9   Precios         67127 non-null  float64\n",
            "dtypes: float64(2), int64(6), object(2)\n",
            "memory usage: 5.1+ MB\n"
          ]
        }
      ],
      "source": [
        "print(df.shape)\n",
        "print('-------'*100)\n",
        "print(df.columns)\n",
        "print('-------'*100)\n",
        "df.info()"
      ]
    },
    {
      "cell_type": "code",
      "execution_count": 7,
      "metadata": {},
      "outputs": [
        {
          "name": "stdout",
          "output_type": "stream",
          "text": [
            "GHI               0\n",
            "Festivo           0\n",
            "Gas               0\n",
            "PotenciaViento    0\n",
            "Ano               0\n",
            "Mes               0\n",
            "Dia               0\n",
            "Hora              0\n",
            "GMT               0\n",
            "Precios           0\n",
            "dtype: int64\n",
            "--------------------------------------------------------------------------------------------------------------------------------------------------------------------------------------------------------------------------------------------------------------------------------------------------------------------------------------------------------------------------------------------------------------------------------------------------------------------------------------------------------------------\n",
            "Duplicated: 0\n"
          ]
        }
      ],
      "source": [
        "print(df.isnull().sum())\n",
        "print('-----'*100)\n",
        "print('Duplicated:', df.duplicated().sum())"
      ]
    },
    {
      "cell_type": "code",
      "execution_count": 8,
      "metadata": {
        "trusted": true
      },
      "outputs": [
        {
          "data": {
            "text/html": [
              "<div>\n",
              "<style scoped>\n",
              "    .dataframe tbody tr th:only-of-type {\n",
              "        vertical-align: middle;\n",
              "    }\n",
              "\n",
              "    .dataframe tbody tr th {\n",
              "        vertical-align: top;\n",
              "    }\n",
              "\n",
              "    .dataframe thead th {\n",
              "        text-align: right;\n",
              "    }\n",
              "</style>\n",
              "<table border=\"1\" class=\"dataframe\">\n",
              "  <thead>\n",
              "    <tr style=\"text-align: right;\">\n",
              "      <th></th>\n",
              "      <th>GHI</th>\n",
              "      <th>Festivo</th>\n",
              "      <th>Gas</th>\n",
              "      <th>PotenciaViento</th>\n",
              "      <th>Ano</th>\n",
              "      <th>Mes</th>\n",
              "      <th>Dia</th>\n",
              "      <th>Hora</th>\n",
              "      <th>GMT</th>\n",
              "      <th>Precios</th>\n",
              "    </tr>\n",
              "  </thead>\n",
              "  <tbody>\n",
              "    <tr>\n",
              "      <th>0</th>\n",
              "      <td>114</td>\n",
              "      <td>1</td>\n",
              "      <td>16.93</td>\n",
              "      <td>18104</td>\n",
              "      <td>2016</td>\n",
              "      <td>1</td>\n",
              "      <td>1</td>\n",
              "      <td>0</td>\n",
              "      <td>1</td>\n",
              "      <td>48.55</td>\n",
              "    </tr>\n",
              "    <tr>\n",
              "      <th>1</th>\n",
              "      <td>114</td>\n",
              "      <td>1</td>\n",
              "      <td>16.93</td>\n",
              "      <td>19895</td>\n",
              "      <td>2016</td>\n",
              "      <td>1</td>\n",
              "      <td>1</td>\n",
              "      <td>1</td>\n",
              "      <td>1</td>\n",
              "      <td>40.00</td>\n",
              "    </tr>\n",
              "    <tr>\n",
              "      <th>2</th>\n",
              "      <td>114</td>\n",
              "      <td>1</td>\n",
              "      <td>16.93</td>\n",
              "      <td>21981</td>\n",
              "      <td>2016</td>\n",
              "      <td>1</td>\n",
              "      <td>1</td>\n",
              "      <td>2</td>\n",
              "      <td>1</td>\n",
              "      <td>33.10</td>\n",
              "    </tr>\n",
              "    <tr>\n",
              "      <th>3</th>\n",
              "      <td>114</td>\n",
              "      <td>1</td>\n",
              "      <td>16.93</td>\n",
              "      <td>25509</td>\n",
              "      <td>2016</td>\n",
              "      <td>1</td>\n",
              "      <td>1</td>\n",
              "      <td>3</td>\n",
              "      <td>1</td>\n",
              "      <td>28.11</td>\n",
              "    </tr>\n",
              "    <tr>\n",
              "      <th>4</th>\n",
              "      <td>114</td>\n",
              "      <td>1</td>\n",
              "      <td>16.93</td>\n",
              "      <td>30320</td>\n",
              "      <td>2016</td>\n",
              "      <td>1</td>\n",
              "      <td>1</td>\n",
              "      <td>4</td>\n",
              "      <td>1</td>\n",
              "      <td>27.13</td>\n",
              "    </tr>\n",
              "  </tbody>\n",
              "</table>\n",
              "</div>"
            ],
            "text/plain": [
              "   GHI  Festivo    Gas PotenciaViento   Ano  Mes  Dia  Hora  GMT  Precios\n",
              "0  114        1  16.93          18104  2016    1    1     0    1    48.55\n",
              "1  114        1  16.93          19895  2016    1    1     1    1    40.00\n",
              "2  114        1  16.93          21981  2016    1    1     2    1    33.10\n",
              "3  114        1  16.93          25509  2016    1    1     3    1    28.11\n",
              "4  114        1  16.93          30320  2016    1    1     4    1    27.13"
            ]
          },
          "execution_count": 8,
          "metadata": {},
          "output_type": "execute_result"
        }
      ],
      "source": [
        "df.head()"
      ]
    },
    {
      "cell_type": "code",
      "execution_count": null,
      "metadata": {},
      "outputs": [],
      "source": []
    }
  ],
  "metadata": {
    "kernelspec": {
      "display_name": ".venv",
      "language": "python",
      "name": "python3"
    },
    "language_info": {
      "codemirror_mode": {
        "name": "ipython",
        "version": 3
      },
      "file_extension": ".py",
      "mimetype": "text/x-python",
      "name": "python",
      "nbconvert_exporter": "python",
      "pygments_lexer": "ipython3",
      "version": "3.11.5"
    }
  },
  "nbformat": 4,
  "nbformat_minor": 4
}
